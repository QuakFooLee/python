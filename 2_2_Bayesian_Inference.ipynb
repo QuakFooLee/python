{
  "cells": [
    {
      "cell_type": "markdown",
      "metadata": {
        "id": "view-in-github",
        "colab_type": "text"
      },
      "source": [
        "<a href=\"https://colab.research.google.com/github/QuakFooLee/python/blob/main/2_2_Bayesian_Inference.ipynb\" target=\"_parent\"><img src=\"https://colab.research.google.com/assets/colab-badge.svg\" alt=\"Open In Colab\"/></a>"
      ]
    },
    {
      "cell_type": "code",
      "execution_count": 1,
      "id": "1ad3af7c-be3b-4c8c-8034-433fe441d092",
      "metadata": {
        "id": "1ad3af7c-be3b-4c8c-8034-433fe441d092"
      },
      "outputs": [],
      "source": [
        "import pandas as pd\n",
        "import numpy as np\n",
        "from sklearn.datasets import make_blobs"
      ]
    },
    {
      "cell_type": "code",
      "execution_count": 2,
      "id": "ef7f687b-e63e-41f4-992d-50c8e9ac3129",
      "metadata": {
        "colab": {
          "base_uri": "https://localhost:8080/"
        },
        "id": "ef7f687b-e63e-41f4-992d-50c8e9ac3129",
        "outputId": "49490334-23a4-4f01-b5f8-17831a536f30"
      },
      "outputs": [
        {
          "output_type": "stream",
          "name": "stdout",
          "text": [
            "X shape: (100, 2)\n",
            "y shape: (100,)\n"
          ]
        }
      ],
      "source": [
        "X, y = make_blobs(n_samples=100, centers=2, n_features=2, random_state=1)\n",
        "\n",
        "print('X shape:', X.shape)\n",
        "print('y shape:', y.shape)"
      ]
    },
    {
      "cell_type": "code",
      "execution_count": 3,
      "id": "32800a7f-6bf0-4dcc-9254-703c68dcf76b",
      "metadata": {
        "colab": {
          "base_uri": "https://localhost:8080/"
        },
        "id": "32800a7f-6bf0-4dcc-9254-703c68dcf76b",
        "outputId": "1a5b0585-68f7-44de-a046-9e52b4ee664a"
      },
      "outputs": [
        {
          "output_type": "stream",
          "name": "stdout",
          "text": [
            "[[-0.79415228  2.10495117]\n",
            " [-9.15155186 -4.81286449]\n",
            " [-3.10367371  3.90202401]\n",
            " [-1.42946517  5.16850105]\n",
            " [-7.4693868  -4.20198333]]\n",
            "[0 1 0 0 1]\n"
          ]
        }
      ],
      "source": [
        "print(X[:5])\n",
        "print(y[:5])"
      ]
    },
    {
      "cell_type": "code",
      "execution_count": 4,
      "id": "904e0c1e-709e-454c-9326-c905e9346ead",
      "metadata": {
        "id": "904e0c1e-709e-454c-9326-c905e9346ead"
      },
      "outputs": [],
      "source": [
        "import numpy as no\n",
        "from scipy.stats import norm\n",
        "def fit_distribution(data):\n",
        "    mu = np.mean(data)\n",
        "    sigma = np.std(data)\n",
        "    print(mu, sigma)\n",
        "    dist = norm(mu,sigma)\n",
        "    return dist"
      ]
    },
    {
      "cell_type": "code",
      "execution_count": 5,
      "id": "eb291f26-47e9-4a53-b051-6d39cb9927a0",
      "metadata": {
        "id": "eb291f26-47e9-4a53-b051-6d39cb9927a0"
      },
      "outputs": [],
      "source": [
        "Xy0 = X[y == 0]"
      ]
    },
    {
      "cell_type": "code",
      "execution_count": 6,
      "id": "453931f4-e4b1-448a-b944-3416d54ee21e",
      "metadata": {
        "id": "453931f4-e4b1-448a-b944-3416d54ee21e"
      },
      "outputs": [],
      "source": [
        "Xy1 = X[y ==1 ]"
      ]
    },
    {
      "cell_type": "code",
      "execution_count": 7,
      "id": "2b04f17e-ee74-41a0-9494-110c463c4cbd",
      "metadata": {
        "colab": {
          "base_uri": "https://localhost:8080/"
        },
        "id": "2b04f17e-ee74-41a0-9494-110c463c4cbd",
        "outputId": "dee15321-4070-4817-a968-678a0ec47096"
      },
      "outputs": [
        {
          "output_type": "stream",
          "name": "stdout",
          "text": [
            "(50, 2) (50, 2)\n"
          ]
        }
      ],
      "source": [
        "print(Xy0.shape, Xy1.shape)"
      ]
    },
    {
      "cell_type": "code",
      "execution_count": 8,
      "id": "46e85a63-9619-4387-88e4-6c11ba2d0f21",
      "metadata": {
        "colab": {
          "base_uri": "https://localhost:8080/",
          "height": 430
        },
        "id": "46e85a63-9619-4387-88e4-6c11ba2d0f21",
        "outputId": "359fe163-c3e1-4092-e7c1-b3e9b2869fee"
      },
      "outputs": [
        {
          "output_type": "display_data",
          "data": {
            "text/plain": [
              "<Figure size 640x480 with 1 Axes>"
            ],
            "image/png": "[encoded data removed]"
          },
          "metadata": {}
        }
      ],
      "source": [
        "import matplotlib.pyplot as plt\n",
        "plt.scatter(Xy0[:,0], Xy0[:,1], c='red')\n",
        "plt.scatter(Xy1[:,0], Xy1[:,1], c='blue')\n",
        "plt.show()"
      ]
    },
    {
      "cell_type": "code",
      "execution_count": 9,
      "id": "946a60d3-1aab-44b0-80eb-2c827f269f94",
      "metadata": {
        "id": "946a60d3-1aab-44b0-80eb-2c827f269f94"
      },
      "outputs": [],
      "source": [
        "priory0 = len(Xy0) / len(X)"
      ]
    },
    {
      "cell_type": "code",
      "execution_count": 10,
      "id": "4bfbc802-b0d8-4805-9b08-2d4901b40dfa",
      "metadata": {
        "id": "4bfbc802-b0d8-4805-9b08-2d4901b40dfa"
      },
      "outputs": [],
      "source": [
        "priory1 = len(Xy1) / len(X)"
      ]
    },
    {
      "cell_type": "code",
      "execution_count": 11,
      "id": "32152fa6-937b-4b0d-86e3-7b4c9379e561",
      "metadata": {
        "colab": {
          "base_uri": "https://localhost:8080/"
        },
        "id": "32152fa6-937b-4b0d-86e3-7b4c9379e561",
        "outputId": "5c74d840-7ab7-4c82-c1af-cc4b3efd19bd"
      },
      "outputs": [
        {
          "output_type": "stream",
          "name": "stdout",
          "text": [
            "0.5 0.5\n"
          ]
        }
      ],
      "source": [
        "print(priory0, priory1)"
      ]
    },
    {
      "cell_type": "code",
      "execution_count": 12,
      "id": "1423dd25-562e-42da-aef5-a3a44205d5b0",
      "metadata": {
        "colab": {
          "base_uri": "https://localhost:8080/"
        },
        "id": "1423dd25-562e-42da-aef5-a3a44205d5b0",
        "outputId": "5722b462-d8ec-45d5-f90e-3a10070d77f2"
      },
      "outputs": [
        {
          "output_type": "stream",
          "name": "stdout",
          "text": [
            "-1.5632888906409914 0.787444265443213\n",
            "4.426680361487157 0.958296071258367\n"
          ]
        }
      ],
      "source": [
        "distX1y0 = fit_distribution(Xy0[:,0])\n",
        "distX2y0 = fit_distribution(Xy0[:,1])"
      ]
    },
    {
      "cell_type": "code",
      "execution_count": 13,
      "id": "653e225b-b76c-48b1-a197-e044b19ea917",
      "metadata": {
        "colab": {
          "base_uri": "https://localhost:8080/"
        },
        "id": "653e225b-b76c-48b1-a197-e044b19ea917",
        "outputId": "5dcf0506-9186-4cc7-8e46-dacc56392ae3"
      },
      "outputs": [
        {
          "output_type": "stream",
          "name": "stdout",
          "text": [
            "-9.681177100524485 0.8943078901048118\n",
            "-3.9713794295185845 0.9308177595208521\n"
          ]
        }
      ],
      "source": [
        "distX1y1 = fit_distribution(Xy1[:, 0])\n",
        "distX2y1 = fit_distribution(Xy1[:, 1])"
      ]
    },
    {
      "cell_type": "code",
      "execution_count": 14,
      "id": "1cf0eb63-b719-45bf-b2ea-0f5ebdc0e5aa",
      "metadata": {
        "id": "1cf0eb63-b719-45bf-b2ea-0f5ebdc0e5aa"
      },
      "outputs": [],
      "source": [
        "def probability(X, prior, dist1, dist2):\n",
        "    return prior * dist1.pdf(X[0]) * dist2.pdf(X[1])"
      ]
    },
    {
      "cell_type": "code",
      "execution_count": 15,
      "id": "9ac52770-ad87-4e97-b3c7-df8bd75bfb03",
      "metadata": {
        "id": "9ac52770-ad87-4e97-b3c7-df8bd75bfb03"
      },
      "outputs": [],
      "source": [
        "Xsample, ysample = X[0], y[0]"
      ]
    },
    {
      "cell_type": "code",
      "execution_count": 16,
      "id": "ab328c27-5869-4556-8021-54f5d4348b89",
      "metadata": {
        "id": "ab328c27-5869-4556-8021-54f5d4348b89"
      },
      "outputs": [],
      "source": [
        "py0 = probability(Xsample, priory0, distX1y0, distX2y0)"
      ]
    },
    {
      "cell_type": "code",
      "execution_count": 17,
      "id": "c103f8b3-e087-4c60-bcef-4cf7303a7496",
      "metadata": {
        "id": "c103f8b3-e087-4c60-bcef-4cf7303a7496"
      },
      "outputs": [],
      "source": [
        "py1 = probability(Xsample, priory1, distX1y1, distX2y1)"
      ]
    },
    {
      "cell_type": "code",
      "execution_count": 18,
      "id": "8cc9d00f-d3a5-4058-b6dc-05224158c03e",
      "metadata": {
        "colab": {
          "base_uri": "https://localhost:8080/"
        },
        "id": "8cc9d00f-d3a5-4058-b6dc-05224158c03e",
        "outputId": "bbc83875-2c6a-4605-ceb5-ac79b3cfa930"
      },
      "outputs": [
        {
          "output_type": "stream",
          "name": "stdout",
          "text": [
            "P(y=0 | [-0.79415228  2.10495117]) = 0.348\n",
            "P(y=1 | [-0.79415228  2.10495117]) = 0.000\n"
          ]
        }
      ],
      "source": [
        "print('P(y=0 | %s) = %.3f' % (Xsample, py0*100))\n",
        "print('P(y=1 | %s) = %.3f' % (Xsample, py1*100))"
      ]
    },
    {
      "cell_type": "code",
      "execution_count": 18,
      "id": "232bb230-45e1-40a2-b19e-fddcc286a4a4",
      "metadata": {
        "id": "232bb230-45e1-40a2-b19e-fddcc286a4a4"
      },
      "outputs": [],
      "source": []
    },
    {
      "cell_type": "code",
      "execution_count": 19,
      "id": "15e2bd20-ac6b-46a3-bec8-b7dfa4180ab4",
      "metadata": {
        "id": "15e2bd20-ac6b-46a3-bec8-b7dfa4180ab4"
      },
      "outputs": [],
      "source": [
        "from sklearn.datasets import make_blobs\n",
        "from sklearn.naive_bayes import GaussianNB\n",
        "\n",
        "X, y = make_blobs(n_samples=100, centers=2, n_features=2, random_state=1)\n",
        ""
      ]
    },
    {
      "cell_type": "code",
      "execution_count": 20,
      "id": "49af6e1b-ede8-4639-83ea-265916d70a8c",
      "metadata": {
        "id": "49af6e1b-ede8-4639-83ea-265916d70a8c"
      },
      "outputs": [],
      "source": [
        "model = GaussianNB()\n",
        "model.fit(X,y)\n",
        "Xsample, ysample = [X[0]], y[0]\n",
        "yhat_prob = model.predict_proba(Xsample)"
      ]
    },
    {
      "cell_type": "code",
      "execution_count": 21,
      "id": "2ef29849-1996-44ab-a2ea-d795ce5ff0a2",
      "metadata": {
        "colab": {
          "base_uri": "https://localhost:8080/"
        },
        "id": "2ef29849-1996-44ab-a2ea-d795ce5ff0a2",
        "outputId": "3f3eeb51-dfef-4cbd-f0cc-843c7adf258d"
      },
      "outputs": [
        {
          "output_type": "stream",
          "name": "stdout",
          "text": [
            "Predicted Probabilities:  [[1.00000000e+00 5.52387327e-30]]\n",
            "Predicted Class:  [0]\n",
            "Truth: y=0\n"
          ]
        }
      ],
      "source": [
        "print('Predicted Probabilities: ', yhat_prob)\n",
        "yhat_class = model.predict(Xsample)\n",
        "print('Predicted Class: ', yhat_class)\n",
        "print('Truth: y=%d' % ysample)"
      ]
    },
    {
      "cell_type": "code",
      "execution_count": 22,
      "id": "a0f81000-baa5-42e5-8356-9e62e7e1137c",
      "metadata": {
        "colab": {
          "base_uri": "https://localhost:8080/"
        },
        "id": "a0f81000-baa5-42e5-8356-9e62e7e1137c",
        "outputId": "e3e82732-5cf6-4ad2-d7e5-c9ac86f741f6"
      },
      "outputs": [
        {
          "output_type": "stream",
          "name": "stdout",
          "text": [
            "Xsample: [array([-0.79415228,  2.10495117])]\n",
            "Predicted Probabilities:  [[1.00000000e+00 5.52387327e-30]]\n",
            "Predicted Class:  [0]\n",
            "True class: y=0\n"
          ]
        }
      ],
      "source": [
        "print('Xsample:', Xsample)\n",
        "print('Predicted Probabilities: ', yhat_prob)\n",
        "yhat_class = model.predict(Xsample)\n",
        "print('Predicted Class: ', yhat_class)\n",
        "print('True class: y=%d' % ysample)"
      ]
    },
    {
      "cell_type": "code",
      "execution_count": 23,
      "id": "4c87a04d-7cb7-4c1d-8c60-54435dca70f1",
      "metadata": {
        "colab": {
          "base_uri": "https://localhost:8080/",
          "height": 447
        },
        "id": "4c87a04d-7cb7-4c1d-8c60-54435dca70f1",
        "outputId": "b9e03a51-277b-45d3-9850-3d721bd12fe7"
      },
      "outputs": [
        {
          "output_type": "execute_result",
          "data": {
            "text/plain": [
              "<matplotlib.collections.PathCollection at 0x78ebc748c9a0>"
            ]
          },
          "metadata": {},
          "execution_count": 23
        },
        {
          "output_type": "display_data",
          "data": {
            "text/plain": [
              "<Figure size 640x480 with 1 Axes>"
            ],
            "image/png": "[encoded data removed]"
          },
          "metadata": {}
        }
      ],
      "source": [
        "plt.scatter(Xy0[:,0], Xy0[:,1], c='red')\n",
        "plt.scatter(Xy1[:,0], Xy1[:,1], c='blue')\n",
        "plt.scatter(Xsample[0][0], Xsample[0][1], c='black', marker='X')"
      ]
    },
    {
      "cell_type": "code",
      "execution_count": 24,
      "id": "e531f97e-bc89-454a-b373-f7430e1aae72",
      "metadata": {
        "colab": {
          "base_uri": "https://localhost:8080/",
          "height": 499
        },
        "id": "e531f97e-bc89-454a-b373-f7430e1aae72",
        "outputId": "b82655b9-089b-4b68-c69a-7463b83be807"
      },
      "outputs": [
        {
          "output_type": "stream",
          "name": "stdout",
          "text": [
            "Xsample:\n",
            "Predicted Probabilities:  [[1.00000000e+00 1.32658236e-32]]\n",
            "Predicted Class:  [0]\n"
          ]
        },
        {
          "output_type": "execute_result",
          "data": {
            "text/plain": [
              "<matplotlib.collections.PathCollection at 0x78ebc96b2b30>"
            ]
          },
          "metadata": {},
          "execution_count": 24
        },
        {
          "output_type": "display_data",
          "data": {
            "text/plain": [
              "<Figure size 640x480 with 1 Axes>"
            ],
            "image/png": "[encoded data removed]"
          },
          "metadata": {}
        }
      ],
      "source": [
        "Xsample = np.array([[-2.0, 4.0]])\n",
        "print('Xsample:')\n",
        "\n",
        "yhat_prob = model.predict_proba(Xsample)\n",
        "\n",
        "print ('Predicted Probabilities: ', yhat_prob)\n",
        "yhat_class = model.predict(Xsample)\n",
        "print('Predicted Class: ', yhat_class)\n",
        "\n",
        "plt.scatter(Xy0[:,0], Xy0[:,1], c='red')\n",
        "plt.scatter(Xy1[:,0], Xy1[:,1], c='blue')\n",
        "plt.scatter(Xsample[0][0], Xsample[0][1], c='black', marker='X')"
      ]
    },
    {
      "cell_type": "code",
      "execution_count": 24,
      "id": "849b133a-44df-427c-b58b-2eeefa78c2ba",
      "metadata": {
        "id": "849b133a-44df-427c-b58b-2eeefa78c2ba"
      },
      "outputs": [],
      "source": []
    },
    {
      "cell_type": "code",
      "execution_count": null,
      "id": "2a76ed08-dab7-4d1a-b70f-abcae70ce244",
      "metadata": {
        "id": "2a76ed08-dab7-4d1a-b70f-abcae70ce244"
      },
      "outputs": [],
      "source": []
    },
    {
      "cell_type": "code",
      "execution_count": null,
      "id": "35a8fa8f-a426-4525-b7ca-9c2e8643116d",
      "metadata": {
        "id": "35a8fa8f-a426-4525-b7ca-9c2e8643116d"
      },
      "outputs": [],
      "source": []
    },
    {
      "cell_type": "code",
      "execution_count": null,
      "id": "fc16992e-acf7-42f4-a2f8-9969e149c446",
      "metadata": {
        "id": "fc16992e-acf7-42f4-a2f8-9969e149c446"
      },
      "outputs": [],
      "source": []
    }
  ],
  "metadata": {
    "kernelspec": {
      "display_name": "anaconda-2024.02-py310",
      "language": "python",
      "name": "conda-env-anaconda-2024.02-py310-py"
    },
    "language_info": {
      "codemirror_mode": {
        "name": "ipython",
        "version": 3
      },
      "file_extension": ".py",
      "mimetype": "text/x-python",
      "name": "python",
      "nbconvert_exporter": "python",
      "pygments_lexer": "ipython3",
      "version": "3.10.14"
    },
    "colab": {
      "provenance": [],
      "include_colab_link": true
    }
  },
  "nbformat": 4,
  "nbformat_minor": 5
}